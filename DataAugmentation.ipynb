{
 "cells": [
  {
   "cell_type": "markdown",
   "id": "b66004ed",
   "metadata": {},
   "source": [
    "# 패키지 임포트"
   ]
  },
  {
   "cell_type": "code",
   "execution_count": 1,
   "id": "e55f9088",
   "metadata": {},
   "outputs": [],
   "source": [
    "import cv2\n",
    "from numpy import expand_dims\n",
    "from keras.preprocessing.image import img_to_array\n",
    "from keras.preprocessing.image import load_img\n",
    "from keras.preprocessing.image import ImageDataGenerator\n",
    "from matplotlib import pyplot as plt\n",
    "import os"
   ]
  },
  {
   "cell_type": "code",
   "execution_count": 2,
   "id": "32f42e78",
   "metadata": {},
   "outputs": [],
   "source": [
    "import warnings\n",
    "warnings.filterwarnings('ignore')"
   ]
  },
  {
   "cell_type": "markdown",
   "id": "61c562a5",
   "metadata": {},
   "source": [
    "# 이미지 증강시키기"
   ]
  },
  {
   "cell_type": "code",
   "execution_count": 3,
   "id": "3cdd6a19",
   "metadata": {},
   "outputs": [],
   "source": [
    "def create_image(gen_data, filepath, imgName):\n",
    "    samples = expand_dims(gen_data, 0)\n",
    "    datagen = ImageDataGenerator(rotation_range = 5,\n",
    "                                 shear_range = 0.3,\n",
    "                                 horizontal_flip = True\n",
    "                                )\n",
    "\n",
    "    it = datagen.flow(samples, batch_size = 1)\n",
    "    # fig = plt.figure(figsize = (224, 224))\n",
    "\n",
    "    for i in range(5): # 이미지 한 장당 9배\n",
    "        # plt.subplot(3, 3, i + 1)\n",
    "\n",
    "        batch = it.next()\n",
    "        image = batch[0].astype('uint8')\n",
    "        image = cv2.cvtColor(image, cv2.COLOR_RGB2BGR)\n",
    "        cv2.imwrite(filepath + \"/gen_0516_\" + str(imgName) + \"_\" + str(i) + \".png\", image)"
   ]
  },
  {
   "cell_type": "code",
   "execution_count": 21,
   "id": "c01eb50e",
   "metadata": {},
   "outputs": [],
   "source": [
    "import natsort"
   ]
  },
  {
   "cell_type": "code",
   "execution_count": 27,
   "id": "e156e96c",
   "metadata": {
    "scrolled": true
   },
   "outputs": [
    {
     "name": "stdout",
     "output_type": "stream",
     "text": [
      "['1', '2', '3', '4', '5', '6', '7', '8', '9', '10-1', '10-2']\n"
     ]
    }
   ],
   "source": [
    "base_path = \"./data_train_class/\"\n",
    "folder_list = os.listdir(base_path) # 경로 설정\n",
    "folder_list = natsort.natsorted(folder_list)\n",
    "print(folder_list)\n",
    "\n",
    "for X in folder_list:\n",
    "    filepath = base_path + str(X) + \"/\"\n",
    "    folder = os.listdir(filepath)\n",
    "    \n",
    "    for i in range(0, len(folder)):\n",
    "        img = folder[i]\n",
    "        imgName = os.path.splitext(img)[0]\n",
    "\n",
    "        genimg = load_img(filepath + '/' + img) # 데이터 가져오기\n",
    "        gen_data = img_to_array(genimg)\n",
    "        create_image(gen_data, filepath, imgName)\n",
    "\n",
    "        \n",
    "#     for f in folder:\n",
    "        \n",
    "#         imgpath = filepath + f\n",
    "#         img_list = os.listdir(imgpath)\n",
    "\n",
    "#         for i in range(1, len(img_list)):\n",
    "#             img = img_list[i]\n",
    "#             imgName = os.path.splitext(img)[0]\n",
    "\n",
    "#             genimg = load_img(imgpath + '/' + img) # 데이터 가져오기\n",
    "#             gen_data = img_to_array(genimg)\n",
    "#             create_image(gen_data, imgpath, imgName)"
   ]
  },
  {
   "cell_type": "code",
   "execution_count": null,
   "id": "dd75e100",
   "metadata": {},
   "outputs": [],
   "source": []
  }
 ],
 "metadata": {
  "kernelspec": {
   "display_name": "Python 3 (ipykernel)",
   "language": "python",
   "name": "python3"
  },
  "language_info": {
   "codemirror_mode": {
    "name": "ipython",
    "version": 3
   },
   "file_extension": ".py",
   "mimetype": "text/x-python",
   "name": "python",
   "nbconvert_exporter": "python",
   "pygments_lexer": "ipython3",
   "version": "3.8.1"
  },
  "nbTranslate": {
   "displayLangs": [
    "*"
   ],
   "hotkey": "alt-t",
   "langInMainMenu": true,
   "sourceLang": "en",
   "targetLang": "fr",
   "useGoogleTranslate": true
  },
  "toc": {
   "base_numbering": 1,
   "nav_menu": {},
   "number_sections": true,
   "sideBar": true,
   "skip_h1_title": false,
   "title_cell": "Table of Contents",
   "title_sidebar": "Contents",
   "toc_cell": false,
   "toc_position": {},
   "toc_section_display": true,
   "toc_window_display": false
  },
  "varInspector": {
   "cols": {
    "lenName": 16,
    "lenType": 16,
    "lenVar": 40
   },
   "kernels_config": {
    "python": {
     "delete_cmd_postfix": "",
     "delete_cmd_prefix": "del ",
     "library": "var_list.py",
     "varRefreshCmd": "print(var_dic_list())"
    },
    "r": {
     "delete_cmd_postfix": ") ",
     "delete_cmd_prefix": "rm(",
     "library": "var_list.r",
     "varRefreshCmd": "cat(var_dic_list()) "
    }
   },
   "types_to_exclude": [
    "module",
    "function",
    "builtin_function_or_method",
    "instance",
    "_Feature"
   ],
   "window_display": false
  }
 },
 "nbformat": 4,
 "nbformat_minor": 5
}
